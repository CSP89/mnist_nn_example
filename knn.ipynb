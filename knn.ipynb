{
  "cells": [
    {
      "cell_type": "code",
      "source": [
        "import numpy;\n",
        "import scipy.special\n",
        "import pandas as pd"
      ],
      "outputs": [],
      "execution_count": 14,
      "metadata": {
        "collapsed": false,
        "outputHidden": false,
        "inputHidden": false
      }
    },
    {
      "cell_type": "code",
      "source": [
        "class NeuronalNetwork:\n",
        "        \n",
        "    def activationFunction(self, x): return scipy.special.expit(x)\n",
        "    \n",
        "    def __init__(self, inputNodes: int, hiddenNodes: int, outputNodes: int, lerningRate: float):\n",
        "        self.iNodes = inputNodes\n",
        "        self.hNodes = hiddenNodes\n",
        "        self.oNodes = outputNodes\n",
        "        self.lr = lerningRate\n",
        "        \n",
        "        self.wih = (numpy.random.normal(0.0, pow(self.hNodes, -0.5), (self.hNodes, self.iNodes)))\n",
        "        self.who = (numpy.random.normal(0.0, pow(self.oNodes, -0.5), (self.oNodes, self.hNodes)))\n",
        "        \n",
        "        pass\n",
        "   \n",
        "    def train(self, inputList, targetList): \n",
        "        hiddenInputs = self.hiddenInputs(inputList)\n",
        "        hiddenOutputs = self.hiddenOutputs(hiddenInputs)\n",
        "        \n",
        "        finalInputs = self.finalInputs(hiddenOutputs)\n",
        "        finalOutputs = self.finalOutputs(finalInputs)\n",
        "        \n",
        "        outputErrors = self.outputErrors(targetList, finalOutputs)\n",
        "        hiddenErrors = self.hiddenErrors(outputErrors)\n",
        "        \n",
        "        self.who += self.wight(outputErrors, finalOutputs, hiddenOutputs)\n",
        "        \n",
        "        pass\n",
        "    \n",
        "    def hiddenInputs(self, inputList): return numpy.dot(self.wih, numpy.array(inputList, ndmin=2).T)\n",
        "    def hiddenOutputs(self, hiddenInputs): return self.activationFunction(hiddenInputs)\n",
        "    def hiddenErrors(self, outputErrors): return numpy.dot(self.who.T, outputErrors)\n",
        "   \n",
        "    def finalInputs(self, hiddenOutputs): return numpy.dot(self.who, hiddenOutputs)\n",
        "    def finalOutputs(self, finalInputs): return self.activationFunction(finalInputs)\n",
        "    \n",
        "    def outputErrors(self, targetList, finalOutputs): return numpy.array(targetList, ndmin=2).T - finalOutputs\n",
        "    \n",
        "    def wight(self, outputErrors, finalOutputs, hiddenOutputs): return self.lr * numpy.dot(\n",
        "        (outputErrors * finalOutputs * (1.0 - finalOutputs)),\n",
        "        numpy.transpose(hiddenOutputs)\n",
        "    )\n",
        "    \n",
        "    def query(self, inputList):\n",
        "        hiddenInputs = self.hiddenInputs(inputList)\n",
        "        hiddenOutputs =  self.hiddenOutputs(hiddenInputs)\n",
        "        \n",
        "        finalInputs = self.finalInputs(hiddenOutputs)\n",
        "        return self.finalOutputs(finalInputs)\n",
        "    \n",
        "    pass"
      ],
      "outputs": [],
      "execution_count": 15,
      "metadata": {
        "collapsed": false,
        "outputHidden": false,
        "inputHidden": false
      }
    },
    {
      "cell_type": "code",
      "source": [
        "inputNodes = 28*28\n",
        "hiddenNodes = 200\n",
        "outputNodes = 10\n",
        "\n",
        "learningRate = .2\n",
        "\n",
        "epochs = 7\n",
        "\n",
        "n = NeuronalNetwork(inputNodes, hiddenNodes, outputNodes, learningRate)\n",
        "\n",
        "trainData = pd.read_csv(\"https://pjreddie.com/media/files/mnist_train.csv\", header=None)\n",
        "\n",
        "for e in range(epochs):\n",
        "    for index, allValues in trainData.iterrows():\n",
        "        inputs = (numpy.asfarray(allValues[1:]) / 255.0 * 0.99) + .01\n",
        "        targets = numpy.zeros(outputNodes) + .01\n",
        "        targets[int(allValues[0])] = .99\n",
        "        n.train(inputs,targets)\n",
        "        \n",
        "        pass\n",
        "    \n",
        "    pass"
      ],
      "outputs": [],
      "execution_count": 16,
      "metadata": {
        "collapsed": false,
        "outputHidden": false,
        "inputHidden": false
      }
    },
    {
      "cell_type": "code",
      "source": [
        "scorecard = []\n",
        "testData= pd.read_csv(\"https://pjreddie.com/media/files/mnist_test.csv\", header=None)\n",
        "\n",
        "for index, allValues in testData.iterrows():\n",
        "    \n",
        "    corectLabel = int(allValues[0])\n",
        "    inputs = (numpy.asfarray(allValues[1:]) / 255.0 * 0.99) + 0.01\n",
        "    \n",
        "    outputs = n.query(inputs)\n",
        "    label = numpy.argmax(outputs)\n",
        "    \n",
        "    if(label == corectLabel):\n",
        "        scorecard.append(1)\n",
        "    else:\n",
        "        scorecard.append(0)\n",
        "        \n",
        "        pass\n",
        "    \n",
        "    pass\n",
        "\n",
        "scorecardArray = numpy.asarray(scorecard)\n",
        "print(\"performance = \",'%.20f' %( scorecardArray.sum() / scorecardArray.size))\n",
        "    "
      ],
      "outputs": [
        {
          "output_type": "stream",
          "name": "stdout",
          "text": [
            "performance =  0.88019999999999998241\n"
          ]
        }
      ],
      "execution_count": 17,
      "metadata": {
        "collapsed": false,
        "outputHidden": false,
        "inputHidden": false
      }
    }
  ],
  "metadata": {
    "kernel_info": {
      "name": "python3"
    },
    "language_info": {
      "name": "python",
      "version": "3.6.8",
      "mimetype": "text/x-python",
      "codemirror_mode": {
        "name": "ipython",
        "version": 3
      },
      "pygments_lexer": "ipython3",
      "nbconvert_exporter": "python",
      "file_extension": ".py"
    },
    "kernelspec": {
      "name": "python3",
      "language": "python",
      "display_name": "Python 3"
    },
    "nteract": {
      "version": "0.12.3"
    }
  },
  "nbformat": 4,
  "nbformat_minor": 4
}